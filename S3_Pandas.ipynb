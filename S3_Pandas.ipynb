{
 "cells": [
  {
   "cell_type": "markdown",
   "id": "325a5f97",
   "metadata": {},
   "source": [
    "# Introduction to Pandas"
   ]
  },
  {
   "cell_type": "markdown",
   "id": "722c166f",
   "metadata": {},
   "source": [
    "<font size=3>This notebook serves as beginner's introduction to pandas package and how to deal with spreadsheets in Python. It doesn't assume any prior knowledge of pandas, but it requires basic understanding of python. </font>"
   ]
  },
  {
   "cell_type": "markdown",
   "id": "bac642a3",
   "metadata": {},
   "source": [
    "<font size=3> We'll be using the Ted Talks dataset on Kaggle [<a href=\"https://www.kaggle.com/rounakbanik/ted-talks\">LINK</a>] </font>"
   ]
  },
  {
   "cell_type": "code",
   "execution_count": null,
   "id": "821ddb79",
   "metadata": {},
   "outputs": [],
   "source": [
    "import pandas as pd"
   ]
  },
  {
   "cell_type": "code",
   "execution_count": null,
   "id": "c3c48a2d",
   "metadata": {},
   "outputs": [],
   "source": [
    "from google.colab import drive \n",
    "drive.mount('/content/gdrive')"
   ]
  },
  {
   "cell_type": "code",
   "execution_count": null,
   "id": "38509cd8",
   "metadata": {
    "scrolled": true
   },
   "outputs": [],
   "source": [
    "# let's read the data\n",
    "pd.read_csv('gdrive/My Drive/ted_main.csv')"
   ]
  },
  {
   "cell_type": "code",
   "execution_count": null,
   "id": "6d4076b1",
   "metadata": {},
   "outputs": [],
   "source": [
    "# but I want to be able to use it and make operations on it\n",
    "# therefore, I assign it to a variable\n",
    "df = pd.read_csv('gdrive/My Drive/ted_main.csv')"
   ]
  },
  {
   "cell_type": "code",
   "execution_count": null,
   "id": "050c3953",
   "metadata": {},
   "outputs": [],
   "source": [
    "# let's display a few rows to make sure everything is right\n",
    "df.head()"
   ]
  },
  {
   "cell_type": "markdown",
   "id": "31251349",
   "metadata": {},
   "source": [
    "### Basic Stats"
   ]
  },
  {
   "cell_type": "code",
   "execution_count": null,
   "id": "75b29b36",
   "metadata": {},
   "outputs": [],
   "source": [
    "# let's quickly check the basic stats\n",
    "df.describe()"
   ]
  },
  {
   "cell_type": "code",
   "execution_count": null,
   "id": "cacfa985",
   "metadata": {},
   "outputs": [],
   "source": [
    "# maybe I only want to know how many rows\n",
    "len(df)"
   ]
  },
  {
   "cell_type": "code",
   "execution_count": null,
   "id": "9750113d",
   "metadata": {},
   "outputs": [],
   "source": [
    "# maybe I only want to see a specific stat\n",
    "df.min()"
   ]
  },
  {
   "cell_type": "code",
   "execution_count": null,
   "id": "76dec2a8",
   "metadata": {},
   "outputs": [],
   "source": [
    "# maybe I only want to see a specific column\n",
    "df['comments'].describe()"
   ]
  },
  {
   "cell_type": "code",
   "execution_count": null,
   "id": "69599876",
   "metadata": {},
   "outputs": [],
   "source": [
    "# maybe I only want a specific stat for specific column(s)\n",
    "df[['comments', 'duration']].mean()"
   ]
  },
  {
   "cell_type": "code",
   "execution_count": null,
   "id": "4eb41dbb",
   "metadata": {},
   "outputs": [],
   "source": [
    "# maybe I am interested in doing stats per row not by column\n",
    "df[['comments', 'duration']].mean(axis=1)"
   ]
  },
  {
   "cell_type": "markdown",
   "id": "6dea4d05",
   "metadata": {},
   "source": [
    "### Selecting Specific rows"
   ]
  },
  {
   "cell_type": "code",
   "execution_count": null,
   "id": "3ae98dc6",
   "metadata": {},
   "outputs": [],
   "source": [
    "df.head()"
   ]
  },
  {
   "cell_type": "code",
   "execution_count": null,
   "id": "8764fb54",
   "metadata": {},
   "outputs": [],
   "source": [
    "# select first two rows\n",
    "df.iloc[0:2]"
   ]
  },
  {
   "cell_type": "code",
   "execution_count": null,
   "id": "f360142f",
   "metadata": {},
   "outputs": [],
   "source": [
    "# select last two rows\n",
    "df.iloc[-2:]"
   ]
  },
  {
   "cell_type": "code",
   "execution_count": null,
   "id": "d3eea6ed",
   "metadata": {},
   "outputs": [],
   "source": [
    "# select first 10 rows but with a step of 2\n",
    "df.iloc[0: 10: 2]"
   ]
  },
  {
   "cell_type": "code",
   "execution_count": null,
   "id": "1ab11af4",
   "metadata": {},
   "outputs": [],
   "source": [
    "# select from row 55 to 62 with a step of 3\n"
   ]
  },
  {
   "cell_type": "markdown",
   "id": "4d508838",
   "metadata": {},
   "source": [
    "### Selecting Rows based on Criteria"
   ]
  },
  {
   "cell_type": "code",
   "execution_count": null,
   "id": "9a8cc675",
   "metadata": {},
   "outputs": [],
   "source": [
    "df.head()"
   ]
  },
  {
   "cell_type": "code",
   "execution_count": null,
   "id": "febc412d",
   "metadata": {},
   "outputs": [],
   "source": [
    "# only select talks \n",
    "# let's say only select talks of Al Gore\n"
   ]
  },
  {
   "cell_type": "code",
   "execution_count": null,
   "id": "5a7b91fb",
   "metadata": {},
   "outputs": [],
   "source": [
    "# let's select talks with languages = 0"
   ]
  },
  {
   "cell_type": "code",
   "execution_count": null,
   "id": "c2952601",
   "metadata": {},
   "outputs": [],
   "source": [
    "# what if I had multiple criteria for selection?\n"
   ]
  },
  {
   "cell_type": "code",
   "execution_count": null,
   "id": "d8945f46",
   "metadata": {},
   "outputs": [],
   "source": [
    "# let's select talks with duration <= 500 and were translated to more than 10 languages\n"
   ]
  },
  {
   "cell_type": "markdown",
   "id": "dab35d13",
   "metadata": {},
   "source": [
    "### Sorting Rows"
   ]
  },
  {
   "cell_type": "code",
   "execution_count": null,
   "id": "cc415e1f",
   "metadata": {},
   "outputs": [],
   "source": [
    "# let's sort by comments\n",
    "df.sort_values('comments').head()"
   ]
  },
  {
   "cell_type": "code",
   "execution_count": null,
   "id": "29c30847",
   "metadata": {},
   "outputs": [],
   "source": [
    "# let's sort by comments descendingly \n",
    "df.sort_values('comments', ascending=False).head()"
   ]
  },
  {
   "cell_type": "code",
   "execution_count": null,
   "id": "678617c5",
   "metadata": {},
   "outputs": [],
   "source": [
    "# let's sort by multiple columns\n"
   ]
  },
  {
   "cell_type": "code",
   "execution_count": null,
   "id": "3af71cb1",
   "metadata": {},
   "outputs": [],
   "source": [
    "# nlargest and nsmallest\n"
   ]
  },
  {
   "cell_type": "code",
   "execution_count": null,
   "id": "5f49d6e2",
   "metadata": {},
   "outputs": [],
   "source": [
    "# let's get the talks with the minimum number of languages after removing the zeros"
   ]
  },
  {
   "cell_type": "markdown",
   "id": "dbd281a5",
   "metadata": {},
   "source": [
    "### Add New columns"
   ]
  },
  {
   "cell_type": "markdown",
   "id": "7363e2a3",
   "metadata": {},
   "source": [
    "## Let's Answer Some Questions!"
   ]
  },
  {
   "cell_type": "markdown",
   "id": "4e26992d",
   "metadata": {},
   "source": [
    "<font size=3>1. What is the average, maximum and minimum duration of the talks?</font>\n",
    "\n",
    "<font size=3>2. The number of talks with more than 1 speaker</font>\n",
    "\n",
    "<font size=3>3. The talk with the maximum number of speakers</font>\n",
    "\n",
    "<font size=3>4. The talks with the longest and shortest durations</font>\n",
    "\n",
    "<font size=3>5. Top 5 talks with the largest number of comments</font>\n",
    "\n",
    "<font size=3>6. Top 5 talks with the most interaction (You can calculate interaction as views per comment)</font>"
   ]
  },
  {
   "cell_type": "code",
   "execution_count": null,
   "id": "a4347d15",
   "metadata": {},
   "outputs": [],
   "source": [
    "df.head()"
   ]
  },
  {
   "cell_type": "markdown",
   "id": "4eb30835",
   "metadata": {},
   "source": [
    "### 1. What is the average, maximum and minimum duration of the talks?"
   ]
  },
  {
   "cell_type": "code",
   "execution_count": null,
   "id": "27dedf5a",
   "metadata": {},
   "outputs": [],
   "source": []
  },
  {
   "cell_type": "markdown",
   "id": "a7e00551",
   "metadata": {},
   "source": [
    "### 2. The number of talks with more than 1 speaker"
   ]
  },
  {
   "cell_type": "code",
   "execution_count": null,
   "id": "45a5f7eb",
   "metadata": {},
   "outputs": [],
   "source": []
  },
  {
   "cell_type": "markdown",
   "id": "21f4f239",
   "metadata": {},
   "source": [
    "### 3. The talk with the maximum number of speakers"
   ]
  },
  {
   "cell_type": "code",
   "execution_count": null,
   "id": "66da92f4",
   "metadata": {},
   "outputs": [],
   "source": []
  },
  {
   "cell_type": "markdown",
   "id": "882edfc9",
   "metadata": {},
   "source": [
    "### 4. The talks with the longest and shortest durations"
   ]
  },
  {
   "cell_type": "code",
   "execution_count": null,
   "id": "89aaed9a",
   "metadata": {},
   "outputs": [],
   "source": []
  },
  {
   "cell_type": "markdown",
   "id": "eeac7f78",
   "metadata": {},
   "source": [
    "### 5. Top 5 talks with the largest number of comments"
   ]
  },
  {
   "cell_type": "code",
   "execution_count": null,
   "id": "7bd5f2ed",
   "metadata": {},
   "outputs": [],
   "source": []
  },
  {
   "cell_type": "markdown",
   "id": "a957ddc2",
   "metadata": {},
   "source": [
    "### 6. Top 5 talks with the most interaction (You can calculate interaction as views per comment)"
   ]
  },
  {
   "cell_type": "code",
   "execution_count": null,
   "id": "bfc4f776",
   "metadata": {},
   "outputs": [],
   "source": []
  },
  {
   "cell_type": "markdown",
   "id": "2c899662",
   "metadata": {},
   "source": [
    "## Let's Answer More Questions!"
   ]
  },
  {
   "cell_type": "markdown",
   "id": "d9c1d785",
   "metadata": {},
   "source": [
    "<font size=3>1. Top 5 speakers with the largest number of comments</font>\n",
    "\n",
    "<font size=3>2. Top 5 speakers with the largest number of talks</font>\n",
    "\n",
    "<font size=3>3. Ted Event with the largest number of views</font>\n",
    "\n",
    "<font size=3>4. Ted Event with the largest number of talks</font>"
   ]
  },
  {
   "cell_type": "code",
   "execution_count": null,
   "id": "b124508d",
   "metadata": {},
   "outputs": [],
   "source": [
    "df.head()"
   ]
  },
  {
   "cell_type": "markdown",
   "id": "6e8f8d70",
   "metadata": {},
   "source": [
    "### 1. Top 5 speakers with the largest number of comments"
   ]
  },
  {
   "cell_type": "code",
   "execution_count": null,
   "id": "51829374",
   "metadata": {},
   "outputs": [],
   "source": []
  },
  {
   "cell_type": "markdown",
   "id": "602edf41",
   "metadata": {},
   "source": [
    "### 2. Top 5 speakers with the largest number of talks"
   ]
  },
  {
   "cell_type": "code",
   "execution_count": null,
   "id": "29554a64",
   "metadata": {},
   "outputs": [],
   "source": []
  },
  {
   "cell_type": "markdown",
   "id": "2a9705a7",
   "metadata": {},
   "source": [
    "### 3. Ted Event with the largest number of views"
   ]
  },
  {
   "cell_type": "code",
   "execution_count": null,
   "id": "b38dd337",
   "metadata": {},
   "outputs": [],
   "source": []
  },
  {
   "cell_type": "markdown",
   "id": "c6a8cda1",
   "metadata": {},
   "source": [
    "### 4. Ted Event with the largest number of talks"
   ]
  },
  {
   "cell_type": "code",
   "execution_count": null,
   "id": "d94f90ba",
   "metadata": {},
   "outputs": [],
   "source": []
  }
 ],
 "metadata": {
  "kernelspec": {
   "display_name": "Python 3 (ipykernel)",
   "language": "python",
   "name": "python3"
  },
  "language_info": {
   "codemirror_mode": {
    "name": "ipython",
    "version": 3
   },
   "file_extension": ".py",
   "mimetype": "text/x-python",
   "name": "python",
   "nbconvert_exporter": "python",
   "pygments_lexer": "ipython3",
   "version": "3.9.6"
  }
 },
 "nbformat": 4,
 "nbformat_minor": 5
}
