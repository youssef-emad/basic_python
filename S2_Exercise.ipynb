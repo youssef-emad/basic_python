{
 "cells": [
  {
   "cell_type": "markdown",
   "id": "7521c8ff",
   "metadata": {},
   "source": [
    "# Exercise 1"
   ]
  },
  {
   "cell_type": "markdown",
   "id": "d001d9f3",
   "metadata": {},
   "source": [
    "This notebook introduces a few exercises to go over the concepts we explained the last time."
   ]
  },
  {
   "cell_type": "markdown",
   "id": "7c62525e",
   "metadata": {},
   "source": [
    "## 1. Even Numbers only"
   ]
  },
  {
   "cell_type": "code",
   "execution_count": 1,
   "id": "efe3c5fb",
   "metadata": {},
   "outputs": [],
   "source": [
    "# Given a list of numbers, print only the even numbers\n",
    "# organize your code flow, then Google how can you check if a number is even or not.\n",
    "# Hint: you'll use the \"%\" operator\n",
    "\n",
    "\n",
    "numbers = [1, 49, 23, 70, 11, 8, 10]\n",
    "\n",
    "# result should be [70, 8, 10]"
   ]
  },
  {
   "cell_type": "markdown",
   "id": "f1461030",
   "metadata": {},
   "source": [
    "## 4. Odd Numbers Only"
   ]
  },
  {
   "cell_type": "code",
   "execution_count": 2,
   "id": "e40c95d4",
   "metadata": {},
   "outputs": [],
   "source": [
    "# print odd numbers from 191 till 231"
   ]
  },
  {
   "cell_type": "markdown",
   "id": "ae8a7940",
   "metadata": {},
   "source": [
    "## 3. Remove Vowles"
   ]
  },
  {
   "cell_type": "code",
   "execution_count": null,
   "id": "4fde19f7",
   "metadata": {},
   "outputs": [],
   "source": [
    "# Ask the user to enter a word, then print the same word after removing all vowels (a, e, i, o, u)\n",
    "# For example, if the user, entered school, we should print(schl)\n",
    "# You can treat a string, the same as the list.\n",
    "# In other words, you can use for-loop on a string, where the variable is the letter\n",
    "\n",
    "word = input(\"Please enter a word\")\n",
    "vowels = [\"a\", \"e\", \"i\", \"o\", \"u\"]"
   ]
  },
  {
   "cell_type": "markdown",
   "id": "5867de56",
   "metadata": {},
   "source": [
    "## 4. Average "
   ]
  },
  {
   "cell_type": "code",
   "execution_count": null,
   "id": "832c9508",
   "metadata": {},
   "outputs": [],
   "source": [
    "# Given a list of numbers, compute the mean/average of these numbers\n",
    "# the mean is basically is the sum of all numbers, divided by their count\n",
    "# to get how many numbers are in a list, we can use a function call len\n",
    "\n",
    "numbers = [1, 2, 50, 60, 34, 50]\n",
    "count = len(numbers)\n"
   ]
  }
 ],
 "metadata": {
  "kernelspec": {
   "display_name": "Python 3 (ipykernel)",
   "language": "python",
   "name": "python3"
  },
  "language_info": {
   "codemirror_mode": {
    "name": "ipython",
    "version": 3
   },
   "file_extension": ".py",
   "mimetype": "text/x-python",
   "name": "python",
   "nbconvert_exporter": "python",
   "pygments_lexer": "ipython3",
   "version": "3.9.6"
  }
 },
 "nbformat": 4,
 "nbformat_minor": 5
}
