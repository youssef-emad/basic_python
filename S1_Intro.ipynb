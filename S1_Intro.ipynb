{
 "cells": [
  {
   "cell_type": "markdown",
   "id": "ae943eb1",
   "metadata": {},
   "source": [
    "# Introduction to Python"
   ]
  },
  {
   "cell_type": "markdown",
   "id": "2cd15305",
   "metadata": {},
   "source": [
    "This notebook serves as a gentle introduction to python and its application in data analysis and social sciences. It assumes no prior no knowledge of python or any other programming language."
   ]
  },
  {
   "cell_type": "markdown",
   "id": "1d6cebdc",
   "metadata": {},
   "source": [
    "## What is a computer program?"
   ]
  },
  {
   "cell_type": "markdown",
   "id": "1b025136",
   "metadata": {},
   "source": [
    "It's a set of instructions. Therefore, before solving any problem, we should break down our solution to a series of steps."
   ]
  },
  {
   "cell_type": "markdown",
   "id": "f5a28cec",
   "metadata": {},
   "source": [
    "## Python basics"
   ]
  },
  {
   "cell_type": "code",
   "execution_count": null,
   "id": "e2bfad08",
   "metadata": {},
   "outputs": [],
   "source": [
    "print(\"Hello World!\")"
   ]
  },
  {
   "cell_type": "code",
   "execution_count": null,
   "id": "05e95ce0",
   "metadata": {},
   "outputs": [],
   "source": [
    "# this is a comment\n",
    "\"\"\"\n",
    "This is another way of writing comments\n",
    "\"\"\"\n",
    "print(\"comments are not executed\")"
   ]
  },
  {
   "cell_type": "code",
   "execution_count": null,
   "id": "b8a30ad8",
   "metadata": {},
   "outputs": [],
   "source": [
    "# variables are used to hold data \n",
    "name = \"youssef\"  # string\n",
    "age = 130  # int\n",
    "weight = 88.145  # float\n",
    "grades = [40, 50, 80, 30]  # list\n",
    "stuff = [40, 30.5, \"kate\"] # list of different types\n",
    "\n",
    "print(name, age, weight)"
   ]
  },
  {
   "cell_type": "code",
   "execution_count": null,
   "id": "91bdfe65",
   "metadata": {},
   "outputs": [],
   "source": [
    "# variable can be over-written\n",
    "name = \"ahmed\"\n",
    "weight = 30\n",
    "print('First',name, age, weight)\n",
    "\n",
    "name = 10  # we can completely change a variable's type\n",
    "print('Second', name, age, weight)"
   ]
  },
  {
   "cell_type": "code",
   "execution_count": null,
   "id": "0f288002",
   "metadata": {},
   "outputs": [],
   "source": [
    "# everything is case sensitive\n",
    "print(Name)  # \"Name\" is a new variable that has nothing to do with \"name\" because the N is capital"
   ]
  },
  {
   "cell_type": "code",
   "execution_count": null,
   "id": "1c72b937",
   "metadata": {},
   "outputs": [],
   "source": [
    "# we can do arithmetic operations between variables\n",
    "num1 = 15\n",
    "num2 = 30\n",
    "print(num1 + num2, num1 * num2)\n",
    "\n",
    "# it can also be applied to strings\n",
    "first_name = 'youssef'\n",
    "last_name = 'emad'\n",
    "print(\"First\", first_name + last_name)\n",
    "\n",
    "# if I want to have a space between the name I can add a \" \"\n",
    "print(\"Second\", first_name + \" \" + last_name)"
   ]
  },
  {
   "cell_type": "code",
   "execution_count": null,
   "id": "b8f5885f",
   "metadata": {},
   "outputs": [],
   "source": [
    "# you can compare variables\n",
    "# operators == > < !=\n",
    "# == checks if left variable is identical to the right one\n",
    "# < left smaller than right\n",
    "# <= smaller than or equal. If you forgot if it's <= or =<, write it as you say it, smaller than or equal.\n",
    "# > left greater than right\n",
    "# != left not equal to rigth\n",
    "\n",
    "print(name == \"youssef\")  # True \n",
    "print(name == \"Youssef\")  # False, because everything is case-senstive\n",
    "print(name == age)  # False, but python won't complain about comparing variables of different types\n",
    "print(13 == \"13\")  # False, left is number (int), while right is text (string)"
   ]
  },
  {
   "cell_type": "code",
   "execution_count": null,
   "id": "92689c96",
   "metadata": {},
   "outputs": [],
   "source": [
    "# what if we need to make a decision\n",
    "# if condition is used to change the code flow\n",
    "\n",
    "name = \"youssef\"\n",
    "\n",
    "if name == \"youssef\":\n",
    "    print(\"member of the class\")\n",
    "else:\n",
    "    # this won't get executed because the statement is true\n",
    "    print(\"not a member\")\n",
    "\n",
    "# back to normal code flow\n",
    "print('FIRST IF CONDITION DONE')"
   ]
  },
  {
   "cell_type": "code",
   "execution_count": null,
   "id": "6e26dc3f",
   "metadata": {},
   "outputs": [],
   "source": [
    "# you can group multiple conditions\n",
    "name = \"youssef\"\n",
    "weight = 90\n",
    "\n",
    "if name == \"youssef\" or weight < 80:\n",
    "    print(\"fit member of the class\")\n",
    "else:\n",
    "    print(\"not a fit member\")"
   ]
  },
  {
   "cell_type": "code",
   "execution_count": null,
   "id": "e371b5ca",
   "metadata": {},
   "outputs": [],
   "source": [
    "# you can have multiple ifs\n",
    "name = \"ahemd\"\n",
    "weight = 90\n",
    "age = 30\n",
    "\n",
    "if name == \"youssef\" and (weight < 80 and age > 25):\n",
    "    print(\"fit member of the class\")\n",
    "elif name == 'mostafa':\n",
    "    # only gets checked if the previous statement is False\n",
    "    print('Important member')\n",
    "else:\n",
    "    # only gets executed when all previous statements are False\n",
    "    print(\"not a fit member\")"
   ]
  },
  {
   "cell_type": "code",
   "execution_count": null,
   "id": "9be50f05",
   "metadata": {},
   "outputs": [],
   "source": [
    "name = \"youssef\"\n",
    "weight = 90\n",
    "age = 30\n",
    "\n",
    "# True statement gets executed\n",
    "if name == \"youssef\" or (weight < 80 and age > 25):\n",
    "    print(\"fit member of the class\")\n",
    "\n",
    "# return to normal code flow because the if-condition is done\n",
    "\n",
    "# new if-condition\n",
    "if name == 'mostafa':\n",
    "    print('Important member')\n",
    "else:\n",
    "    # gets executed because the previous statement is False\n",
    "    print(\"not a fit member\")"
   ]
  },
  {
   "cell_type": "code",
   "execution_count": null,
   "id": "0a85134f",
   "metadata": {},
   "outputs": [],
   "source": [
    "# you can have multiple ifs\n",
    "name = \"mostafa\"\n",
    "weight = 90\n",
    "\n",
    "if (name == \"youssef\" and weight < 80) or (name == 'mostafa' and weight < 90):\n",
    "    print(\"fit member of the class\")\n",
    "elif name != 'mostafa':\n",
    "    print('Important member')\n",
    "else:\n",
    "    print(\"not a fit member\")"
   ]
  },
  {
   "cell_type": "code",
   "execution_count": null,
   "id": "f2fffb96",
   "metadata": {},
   "outputs": [],
   "source": [
    "# Let's write a simple program\n",
    "# All employees are paid 20$ per hour to work 40 hours per week or less.\n",
    "# If an employee exceeded the 40 hours, he/she is paid 30$ for each extra hour.\n",
    "# Bonus: update your code to take input from the user\n",
    "\n",
    "num_hours = int(input('Please Enter the number of hours'))\n",
    "pay_per_hour = 20\n",
    "pay = 0\n",
    "\n",
    "if num_hours <= 40:\n",
    "    pay = num_hours * pay_per_hour\n",
    "else:\n",
    "    pay = 40 * pay_per_hour + (num_hours - 40) * 30\n",
    "print(pay)"
   ]
  },
  {
   "cell_type": "code",
   "execution_count": null,
   "id": "cd34eccd",
   "metadata": {},
   "outputs": [],
   "source": [
    "# you can generate a list of number using range\n",
    "numbers = list(range(1, 11))  # to generate numbers from 1 to 10, we need to set the upper term to 10 + 1\n",
    "print('1:10', numbers)\n",
    "\n",
    "\n",
    "numbers = list(range(1, 11, 2)) # we can also add the step\n",
    "print('1: 10 with a step of 2', numbers)"
   ]
  },
  {
   "cell_type": "code",
   "execution_count": null,
   "id": "b22ad408",
   "metadata": {},
   "outputs": [],
   "source": [
    "# Let's take another problem\n",
    "# Write a program that prints the numbers from 1 to 20\n",
    "\n",
    "# we need to repeat work, so we use a for loop\n",
    "\n",
    "for num in range(1, 21):\n",
    "    print(num)"
   ]
  },
  {
   "cell_type": "code",
   "execution_count": null,
   "id": "b044fa22",
   "metadata": {},
   "outputs": [],
   "source": [
    "participants = [('Ahmed', 30), ('Mohamed', 10), ('John', 30), ('kate', 25), ('julia', 100)]\n",
    "# print participants with age between 10 and 50\n",
    "for name, age in participants:\n",
    "    if age <= 50 and age >= 10:\n",
    "        print(name)"
   ]
  },
  {
   "cell_type": "markdown",
   "id": "a12148b9",
   "metadata": {},
   "source": [
    "#### Let's recap what we've seen so far:\n",
    "1. variables\n",
    "2. arithmetic operations\n",
    "3. comparison operators\n",
    "3. if-condition\n",
    "4. for loop"
   ]
  },
  {
   "cell_type": "markdown",
   "id": "1d60a78a",
   "metadata": {},
   "source": [
    "## Problems"
   ]
  },
  {
   "cell_type": "code",
   "execution_count": null,
   "id": "1fc9fe33",
   "metadata": {},
   "outputs": [],
   "source": [
    "# Calculate the total weight of a bag of candies\n",
    "# The user will enter the number of candies and the weight of each candy\n",
    "\n",
    "# ############################ Solution #########################################\n",
    "\n",
    "\n",
    "# define a variable to store my result\n",
    "# the initial value is 0 because if there are no candies, then the weight is 0\n",
    "total_weight = 0\n",
    "\n",
    "num_candies = int(input('Enter the number of candies'))\n",
    "# we need to ask the user to enter the weight of each candy\n",
    "# so we need to repeat some work, so we use a for loop\n",
    "for i in range(num_candies):\n",
    "    candy_weight = int(input('Enter the weight of the candy'))\n",
    "    \n",
    "    # add candy_weight to total weight and assign to total_weight\n",
    "    # it's similar to deleting the old value and assigning a new value to total_weight\n",
    "    total_weight = total_weight + candy_weight\n",
    "print('Total weight =', total_weight)"
   ]
  },
  {
   "cell_type": "code",
   "execution_count": null,
   "id": "12ba906a",
   "metadata": {},
   "outputs": [],
   "source": [
    "# Calculate the weekly salary of a number of employees.\n",
    "\n",
    "# All employees are paid 20$ per hour to work 40 hours per week or less.\n",
    "# If an employee exceeded the 40 hours, he/she is paid 30$ for each extra hour.\n",
    "\n",
    "# The user will enter the number of employees then will enter working hours for each employee.\n",
    "\n",
    "# ############################ Solution #########################################\n",
    "pay_per_hour = 20\n",
    "overtime_pay_per_hour = 30\n",
    "\n",
    "num_empl = int(input('Enter number of employees:'))\n",
    "for _ in range(num_empl):\n",
    "    num_hours = int(input('Enter number of hours'))\n",
    "    if num_hours <= 40:\n",
    "        pay = num_hours * pay_per_hour\n",
    "    else:\n",
    "        pay = 40 * pay_per_hour + (num_hours - 40) * overtime_pay_per_hour  \n",
    "    print(pay)"
   ]
  },
  {
   "cell_type": "code",
   "execution_count": null,
   "id": "f438a56c",
   "metadata": {},
   "outputs": [],
   "source": [
    "# Calculate the weekly salary of a number of employees.\n",
    "\n",
    "# The user will enter the number of employees then will enter working hours for each employee.\n",
    "\n",
    "# Not all employees are paid equally. Each job has its own hourly rate as follows:\n",
    "\n",
    "# M -- mechanic are paid 20$ per hour to work 40 hours per week or less.\n",
    "# If they exceeded the 40 hours, they are paid 30$ for each extra hour.\n",
    "\n",
    "# D -- drivers are paid 25$ per hour to work 40 hours per week or less.\n",
    "# If they exceeded the 40 hours, they are paid 40$ for each extra hour.\n",
    "\n",
    "# A -- accountant are paid 40$ per hour to work 40 hours per week or less.\n",
    "# If they exceeded the 40 hours, they are paid 50$ for each extra hour.\n",
    "\n",
    "# ############################ Solution #########################################\n",
    "\n",
    "# This is very similar to the previous problem, with one simple addition\n",
    "# For each job, we'll also ask the user to enter the type of the job, then make another decision for the pay\n",
    "\n",
    "num_empl = int(input('Enter number of employees:'))\n",
    "for _ in range(num_empl):\n",
    "    num_hours = int(input('Enter number of hours'))\n",
    "    job_type = input('Enter the job type')  # we don't use int because we want the variable to hold text\n",
    "    \n",
    "    # use the job type to set the values for pay_per_hour and overtime_pay_per_hour\n",
    "    # remember, in the previous problem, these were constants that were set in the beginning\n",
    "    # now we have to change them\n",
    "    if job_type == 'M':\n",
    "        pay_per_hour = 20\n",
    "        overtime_pay_per_hour = 30\n",
    "    elif job_type == 'D':\n",
    "        pay_per_hour = 25\n",
    "        overtime_pay_per_hour = 40\n",
    "    elif job_type == 'A':\n",
    "        pay_per_hour = 40\n",
    "        overtime_pay_per_hour = 50\n",
    "\n",
    "    if num_hours <= 40:\n",
    "        pay = num_hours * pay_per_hour\n",
    "    else:\n",
    "        pay = 40 * pay_per_hour + (num_hours - 40) * overtime_pay_per_hour \n",
    "    print(pay) "
   ]
  },
  {
   "cell_type": "code",
   "execution_count": null,
   "id": "3563b8f3",
   "metadata": {},
   "outputs": [],
   "source": [
    "# BONUS:\n",
    "# the previous code will not work with some cases\n",
    "# In other words, if the user enter some inputs, the output will be wrong\n",
    "# can you think of some scenarios? and what can we change to avoid that? "
   ]
  },
  {
   "cell_type": "code",
   "execution_count": null,
   "id": "eaba2d23",
   "metadata": {},
   "outputs": [],
   "source": [
    "# BONUS:\n",
    "# the previous code could be a bit simplier if we're able to look into a simple database\n",
    "# and fetch the rates directly, without the need to do if-conditions\n",
    "# imagine that we want our program to work with different employers, that have different types of jobs\n",
    "# or at least we want our program to be extendable and editable, in which we can add/remove any jobs\n",
    "# of course we can add/remove/update the if-conditions, but we don't want to change the structure of the code\n",
    "# just this simple database, so we add/remove/update the datbase, but the code stays the same\n",
    "# this can be done using a data-structure, called dictionary, in which we can store a key and an associated value\n",
    "\n",
    "example_dict = {'Business Class': 'Room 1',\n",
    "                'Public Policy': 2,\n",
    "               'Engineering': (4, 5)}\n",
    "\n",
    "print(example_dict['Public Policy'])\n",
    "\n",
    "\n",
    "# Now that we know about dictionaries, how can we use them to make our code simpler?"
   ]
  }
 ],
 "metadata": {
  "kernelspec": {
   "display_name": "Python 3 (ipykernel)",
   "language": "python",
   "name": "python3"
  },
  "language_info": {
   "codemirror_mode": {
    "name": "ipython",
    "version": 3
   },
   "file_extension": ".py",
   "mimetype": "text/x-python",
   "name": "python",
   "nbconvert_exporter": "python",
   "pygments_lexer": "ipython3",
   "version": "3.9.6"
  }
 },
 "nbformat": 4,
 "nbformat_minor": 5
}
