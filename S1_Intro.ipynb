{
 "cells": [
  {
   "cell_type": "markdown",
   "id": "ae943eb1",
   "metadata": {},
   "source": [
    "# Introduction to Python"
   ]
  },
  {
   "cell_type": "markdown",
   "id": "2cd15305",
   "metadata": {},
   "source": [
    "This notebook serves as a gentle introduction to python and its application in data analysis and social sciences. It assumes no prior no knowledge of python or any other programming language."
   ]
  },
  {
   "cell_type": "markdown",
   "id": "1d6cebdc",
   "metadata": {},
   "source": [
    "## What is a computer program?"
   ]
  },
  {
   "cell_type": "markdown",
   "id": "1b025136",
   "metadata": {},
   "source": [
    "It's a set of instructions. Therefore, before solving any problem, we should break down our solution to a series of steps."
   ]
  },
  {
   "cell_type": "markdown",
   "id": "f5a28cec",
   "metadata": {},
   "source": [
    "## Python basics"
   ]
  },
  {
   "cell_type": "code",
   "execution_count": null,
   "id": "e2bfad08",
   "metadata": {},
   "outputs": [],
   "source": [
    "print(\"Hello World!\")"
   ]
  },
  {
   "cell_type": "code",
   "execution_count": null,
   "id": "05e95ce0",
   "metadata": {},
   "outputs": [],
   "source": [
    "# this is a comment\n",
    "\"\"\"\n",
    "This is another way of writing comments\n",
    "\"\"\"\n",
    "print(\"comments are not executed\")"
   ]
  },
  {
   "cell_type": "code",
   "execution_count": null,
   "id": "b8a30ad8",
   "metadata": {},
   "outputs": [],
   "source": [
    "# variables are used to hold data \n",
    "name = \"youssef\" # string\n",
    "age = 130 # int\n",
    "weight = 88.145 # float\n",
    "grades = [40, 50, 80, 30]\n",
    "\n",
    "print(name, age, weight)"
   ]
  },
  {
   "cell_type": "code",
   "execution_count": null,
   "id": "91bdfe65",
   "metadata": {},
   "outputs": [],
   "source": [
    "# variable can be over-written\n",
    "name = \"ahmed\"\n",
    "weight = 30\n",
    "print(name, age, weight)"
   ]
  },
  {
   "cell_type": "code",
   "execution_count": null,
   "id": "0f288002",
   "metadata": {},
   "outputs": [],
   "source": [
    "# everything is case sensitive\n",
    "print(Name)"
   ]
  },
  {
   "cell_type": "code",
   "execution_count": null,
   "id": "1c72b937",
   "metadata": {},
   "outputs": [],
   "source": [
    "# we can do arithmetic operations between variables\n",
    "num1 = 15\n",
    "num2 = 30\n",
    "print(num1 + num2, num1 * num2)\n",
    "\n",
    "# it can also be applied to strings\n",
    "first_name = 'youssef'\n",
    "last_name = 'emad'\n",
    "print(first_name + last_name)"
   ]
  },
  {
   "cell_type": "code",
   "execution_count": null,
   "id": "b8f5885f",
   "metadata": {},
   "outputs": [],
   "source": [
    "# you can compare variables\n",
    "# operators == > < !=\n",
    "print(name == \"youssef\")\n",
    "print(name == \"Youssef\")\n",
    "print(name == age)\n",
    "print(13 == \"13\")"
   ]
  },
  {
   "cell_type": "code",
   "execution_count": null,
   "id": "92689c96",
   "metadata": {},
   "outputs": [],
   "source": [
    "# what if we need to make a decision\n",
    "# if condition is used to change the code flow\n",
    "\n",
    "name = \"youssef\"\n",
    "\n",
    "if name == \"youssef\":\n",
    "    print(\"member of the class\")\n",
    "else:\n",
    "    print(\"not a member\")"
   ]
  },
  {
   "cell_type": "code",
   "execution_count": null,
   "id": "6e26dc3f",
   "metadata": {},
   "outputs": [],
   "source": [
    "# you can group multiple conditions\n",
    "name = \"youssef\"\n",
    "weight = 90\n",
    "\n",
    "if name == \"youssef\" and weight < 80:\n",
    "    print(\"fit member of the class\")\n",
    "else:\n",
    "    print(\"not a fit member\")"
   ]
  },
  {
   "cell_type": "code",
   "execution_count": null,
   "id": "e371b5ca",
   "metadata": {},
   "outputs": [],
   "source": [
    "# you can have multiple ifs\n",
    "name = \"youssef\"\n",
    "weight = 90\n",
    "\n",
    "if name == \"youssef\" and weight < 80:\n",
    "    print(\"fit member of the class\")\n",
    "elif name == 'mostafa':\n",
    "    print('Important member')\n",
    "else:\n",
    "    print(\"not a fit member\")"
   ]
  },
  {
   "cell_type": "code",
   "execution_count": null,
   "id": "0a85134f",
   "metadata": {},
   "outputs": [],
   "source": [
    "# you can have multiple ifs\n",
    "name = \"mostafa\"\n",
    "weight = 90\n",
    "\n",
    "if (name == \"youssef\" and weight < 80) or (name == 'mostafa' and weight < 90):\n",
    "    print(\"fit member of the class\")\n",
    "elif name == 'mostafa':\n",
    "    print('Important member')\n",
    "else:\n",
    "    print(\"not a fit member\")"
   ]
  },
  {
   "cell_type": "code",
   "execution_count": null,
   "id": "f2fffb96",
   "metadata": {},
   "outputs": [],
   "source": [
    "# Let's write a simple program\n",
    "# All employees are paid 20$ per hour to work 40 hours per week or less.\n",
    "# If an employee exceeded the 40 hours, he/she is paid 30$ for each extra hour.\n",
    "# Bonus: update your code to take input from the user\n",
    "num_hours = 50\n"
   ]
  },
  {
   "cell_type": "code",
   "execution_count": null,
   "id": "b22ad408",
   "metadata": {},
   "outputs": [],
   "source": [
    "# Let's take another problem\n",
    "# Write a program that prints the numbers from 1 to 100\n",
    "\n",
    "# we need to repeat work, so we use a for loop\n"
   ]
  },
  {
   "cell_type": "markdown",
   "id": "a12148b9",
   "metadata": {},
   "source": [
    "#### Let's recap what we've seen so far:\n",
    "1. variables\n",
    "2. arithmetic operations\n",
    "3. comparison operators\n",
    "3. if-condition\n",
    "4. for loop"
   ]
  },
  {
   "cell_type": "markdown",
   "id": "1d60a78a",
   "metadata": {},
   "source": [
    "## Problems"
   ]
  },
  {
   "cell_type": "code",
   "execution_count": null,
   "id": "1fc9fe33",
   "metadata": {},
   "outputs": [],
   "source": [
    "# Calculate the total weight of a bag of candies\n",
    "# The user will enter the number of candies and the weight of each candy\n"
   ]
  },
  {
   "cell_type": "code",
   "execution_count": null,
   "id": "12ba906a",
   "metadata": {},
   "outputs": [],
   "source": [
    "# Calculate the weekly salary of a number of employees.\n",
    "\n",
    "# All employees are paid 20$ per hour to work 40 hours per week or less.\n",
    "# If an employee exceeded the 40 hours, he/she is paid 30$ for each extra hour.\n",
    "\n",
    "# The user will enter the number of employees then will enter working hours for each employee.\n"
   ]
  },
  {
   "cell_type": "code",
   "execution_count": null,
   "id": "f438a56c",
   "metadata": {},
   "outputs": [],
   "source": [
    "# Calculate the weekly salary of a number of employees.\n",
    "\n",
    "# Not all employees are paid equally. Each job has its own hourly rate as follows:\n",
    "\n",
    "# M -- mechanic are paid 20$ per hour to work 40 hours per week or less.\n",
    "# If they exceeded the 40 hours, they are paid 30$ for each extra hour.\n",
    "\n",
    "# D -- drivers are paid 25$ per hour to work 40 hours per week or less.\n",
    "# If they exceeded the 40 hours, they are paid 40$ for each extra hour.\n",
    "\n",
    "# A -- accountant are paid 40$ per hour to work 40 hours per week or less.\n",
    "# If they exceeded the 40 hours, they are paid 50$ for each extra hour.\n",
    "\n",
    "# The user will enter the type and number of working hours for each employee.\n",
    "\n",
    "# Ask the user each time, if he/she wants to enter data for another employee,\n",
    "# If they answered yes, receive data\n",
    "# If they answered no, print the total sum of salaries"
   ]
  }
 ],
 "metadata": {
  "kernelspec": {
   "display_name": "Python 3 (ipykernel)",
   "language": "python",
   "name": "python3"
  },
  "language_info": {
   "codemirror_mode": {
    "name": "ipython",
    "version": 3
   },
   "file_extension": ".py",
   "mimetype": "text/x-python",
   "name": "python",
   "nbconvert_exporter": "python",
   "pygments_lexer": "ipython3",
   "version": "3.9.6"
  }
 },
 "nbformat": 4,
 "nbformat_minor": 5
}
