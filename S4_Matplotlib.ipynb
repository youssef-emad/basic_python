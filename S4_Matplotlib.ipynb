{
 "cells": [
  {
   "cell_type": "markdown",
   "id": "31615cd0",
   "metadata": {},
   "source": [
    "# Introduction to Matplotlib"
   ]
  },
  {
   "cell_type": "markdown",
   "id": "8a1e4f0a",
   "metadata": {},
   "source": [
    "<font size=3>This notebook serves as beginner's introduction to matplotlib package. It doesn't assume any prior knowledge of matplotlib, but it requires basic understanding of python and pandas. </font>"
   ]
  },
  {
   "cell_type": "code",
   "execution_count": null,
   "id": "5fa668e7",
   "metadata": {},
   "outputs": [],
   "source": [
    "# import required packages\n",
    "import pandas as pd\n",
    "import matplotlib.pyplot as plt\n",
    "%matplotlib inline"
   ]
  },
  {
   "cell_type": "markdown",
   "id": "23978149",
   "metadata": {},
   "source": [
    "## Basic Plots"
   ]
  },
  {
   "cell_type": "markdown",
   "id": "c79562b6",
   "metadata": {},
   "source": [
    "### Line Plot"
   ]
  },
  {
   "cell_type": "code",
   "execution_count": null,
   "id": "fcbac804",
   "metadata": {},
   "outputs": [],
   "source": [
    "# let's generate some dummy points\n",
    "\n",
    "# x axis from 0 till 20\n",
    "x_points = range(0, 21)\n",
    "# y = 2 * x + 1\n",
    "linear_points = [2*x + 1 for x in x_points]\n",
    "# y = x^2\n",
    "non_linear_points = [x**2 for x in x_points]"
   ]
  },
  {
   "cell_type": "code",
   "execution_count": null,
   "id": "26b6b33b",
   "metadata": {},
   "outputs": [],
   "source": [
    "# create a 7x7 figure \n",
    "plt.figure(figsize=(7, 7))\n",
    "# plot linear points\n",
    "plt.plot(x_points, linear_points)\n",
    "# plot non linear points\n",
    "plt.plot(x_points, non_linear_points)"
   ]
  },
  {
   "cell_type": "markdown",
   "id": "8f902b94",
   "metadata": {},
   "source": [
    "<font size=3>This is a nice informative plot, right?</font>\n",
    "\n",
    "<font size=3>Is it missing anything?</font>"
   ]
  },
  {
   "cell_type": "code",
   "execution_count": null,
   "id": "8b927c54",
   "metadata": {},
   "outputs": [],
   "source": [
    "# we can do better\n",
    "plt.style.use(\"seaborn-darkgrid\")\n",
    "# create a 7x7 figure \n",
    "plt.figure(figsize=(7, 7))\n",
    "# plot linear points\n",
    "plt.plot(linear_points, label='y = 2x + 1', color='orangered')\n",
    "# plot non linear points\n",
    "plt.plot(non_linear_points, label='y = x^2')\n",
    "# add title\n",
    "plt.title('Functions Plots', fontdict={'fontsize': 18})\n",
    "# add x and y labels\n",
    "plt.xlabel('X', fontdict={'fontsize': 18})\n",
    "plt.ylabel('Y', fontdict={'fontsize': 18},)\n",
    "plt.legend(prop={\"size\": 14})\n",
    "# add legend"
   ]
  },
  {
   "cell_type": "markdown",
   "id": "28e9e30e",
   "metadata": {},
   "source": [
    "## Pandas and Matplotlib"
   ]
  },
  {
   "cell_type": "code",
   "execution_count": null,
   "id": "b5f42c0a",
   "metadata": {},
   "outputs": [],
   "source": [
    "df = pd.DataFrame(columns=['X', 'Y', 'City', 'Country', 'Population', 'GDP'],\n",
    "                  data=[[1, 2, 'Cairo', 'Egypt', 2000000, 35000],\n",
    "                        [4, 5, 'Giza', 'Egypt', 100000, 4000],\n",
    "                        [5, 8, 'Alexandaria', 'Egypt', 1800000, 50000],\n",
    "                        [4, 6, 'Mansoura', 'Egypt', 50000, 8000],\n",
    "                        [2, 9, 'Casablanca', 'Morroco', 60000, 60000],\n",
    "                        [10, 11, 'Roma', 'Italy', 600000, 80000],\n",
    "                        [7, 8, 'Suez', 'Egypt', 40000, 90000],\n",
    "                        [7, 9, 'Milan', 'Italy', 400000, 100000]])\n",
    "df.head(10)"
   ]
  },
  {
   "cell_type": "markdown",
   "id": "517b9f9a",
   "metadata": {},
   "source": [
    "### Multiple Line plot"
   ]
  },
  {
   "cell_type": "code",
   "execution_count": null,
   "id": "e5daa2f1",
   "metadata": {},
   "outputs": [],
   "source": [
    "# multiple lines\n",
    "# plt.figure(figsize=(7, 7))\n",
    "# ax1 = plt.gca()\n",
    "# ax1.plot(df['Population'])\n",
    "# ax2 = ax1.twinx()\n",
    "# ax2.plot(df['GDP'], color='r')\n",
    "# ax1.set_ylabel('Population')\n",
    "# ax2.set_ylabel('GDP')"
   ]
  },
  {
   "cell_type": "markdown",
   "id": "f2e4fab8",
   "metadata": {},
   "source": [
    "### Scatter Plot"
   ]
  },
  {
   "cell_type": "code",
   "execution_count": null,
   "id": "8127c2ce",
   "metadata": {},
   "outputs": [],
   "source": [
    "# lines don't make sense\n",
    "plt.figure(figsize=(7, 7))\n",
    "plt.plot(df['X'], df['Y'])"
   ]
  },
  {
   "cell_type": "code",
   "execution_count": null,
   "id": "38ed481e",
   "metadata": {},
   "outputs": [],
   "source": [
    "plt.figure(figsize=(7, 7))\n",
    "plt.scatter(df['X'], df['Y'])"
   ]
  },
  {
   "cell_type": "code",
   "execution_count": null,
   "id": "f9d7b27a",
   "metadata": {},
   "outputs": [],
   "source": [
    "plt.figure(figsize=(7, 7))\n",
    "plt.scatter(df['Population'], df['GDP'])"
   ]
  },
  {
   "cell_type": "code",
   "execution_count": null,
   "id": "7bbf50c3",
   "metadata": {},
   "outputs": [],
   "source": [
    "# maybe add the size"
   ]
  },
  {
   "cell_type": "markdown",
   "id": "eb2a1245",
   "metadata": {},
   "source": [
    "### Bar plot"
   ]
  },
  {
   "cell_type": "code",
   "execution_count": null,
   "id": "a084bcd5",
   "metadata": {},
   "outputs": [],
   "source": [
    "plt.figure(figsize=(10, 7))\n",
    "plt.bar(range(len(df['Population'])), df['Population'])\n",
    "ticks = plt.xticks(range(len(df['Population'])), df['City'], fontsize=15, rotation=90)"
   ]
  },
  {
   "cell_type": "code",
   "execution_count": null,
   "id": "a0a8e564",
   "metadata": {},
   "outputs": [],
   "source": [
    "plt.figure(figsize=(10, 7))\n",
    "plt.barh(range(len(df['Population'])), df['Population'])\n",
    "ticks = plt.yticks(range(len(df['Population'])), df['City'], fontsize=15)"
   ]
  },
  {
   "cell_type": "markdown",
   "id": "419dda42",
   "metadata": {},
   "source": [
    "### Histogram"
   ]
  },
  {
   "cell_type": "code",
   "execution_count": null,
   "id": "f5cfeec5",
   "metadata": {},
   "outputs": [],
   "source": [
    "plt.figure(figsize=(10, 7))\n",
    "plt.hist(df['Population'])"
   ]
  },
  {
   "cell_type": "code",
   "execution_count": null,
   "id": "2892aeb3",
   "metadata": {},
   "outputs": [],
   "source": [
    "plt.figure(figsize=(10, 7))\n",
    "plt.hist(df['GDP'])"
   ]
  },
  {
   "cell_type": "markdown",
   "id": "18a57af7",
   "metadata": {},
   "source": [
    "## TED Talks"
   ]
  },
  {
   "cell_type": "code",
   "execution_count": null,
   "id": "e556e91c",
   "metadata": {},
   "outputs": [],
   "source": [
    "# from google.colab import drive \n",
    "# drive.mount('/content/gdrive')\n",
    "# df = pd.read_csv('gdrive/My Drive/ted_main.csv')"
   ]
  },
  {
   "cell_type": "code",
   "execution_count": null,
   "id": "00934223",
   "metadata": {},
   "outputs": [],
   "source": [
    "df = pd.read_csv('./ted_main.csv')\n",
    "df.head()"
   ]
  }
 ],
 "metadata": {
  "kernelspec": {
   "display_name": "Python 3 (ipykernel)",
   "language": "python",
   "name": "python3"
  },
  "language_info": {
   "codemirror_mode": {
    "name": "ipython",
    "version": 3
   },
   "file_extension": ".py",
   "mimetype": "text/x-python",
   "name": "python",
   "nbconvert_exporter": "python",
   "pygments_lexer": "ipython3",
   "version": "3.9.6"
  }
 },
 "nbformat": 4,
 "nbformat_minor": 5
}
